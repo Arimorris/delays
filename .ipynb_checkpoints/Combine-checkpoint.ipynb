{
 "cells": [
  {
   "cell_type": "code",
   "execution_count": 1,
   "metadata": {},
   "outputs": [],
   "source": [
    "import pandas as pd\n",
    "import numpy as np\n",
    "import os\n",
    "import math"
   ]
  },
  {
   "cell_type": "code",
   "execution_count": 2,
   "metadata": {},
   "outputs": [
    {
     "name": "stderr",
     "output_type": "stream",
     "text": [
      "/Users/arihorwitz/anaconda3/lib/python3.6/site-packages/IPython/core/interactiveshell.py:2785: DtypeWarning: Columns (38) have mixed types. Specify dtype option on import or set low_memory=False.\n",
      "  interactivity=interactivity, compiler=compiler, result=result)\n",
      "/Users/arihorwitz/anaconda3/lib/python3.6/site-packages/IPython/core/interactiveshell.py:2785: DtypeWarning: Columns (37,38) have mixed types. Specify dtype option on import or set low_memory=False.\n",
      "  interactivity=interactivity, compiler=compiler, result=result)\n",
      "/Users/arihorwitz/anaconda3/lib/python3.6/site-packages/IPython/core/interactiveshell.py:2785: DtypeWarning: Columns (21,38) have mixed types. Specify dtype option on import or set low_memory=False.\n",
      "  interactivity=interactivity, compiler=compiler, result=result)\n"
     ]
    }
   ],
   "source": [
    "#make dataframes of csv's obtained from the Bureau of Transportation Statistics \n",
    "cwd = os.getcwd()\n",
    "jan = pd.read_csv(cwd + '/records/Jan.csv')\n",
    "feb = pd.read_csv(cwd + '/records/Feb.csv')\n",
    "march = pd.read_csv(cwd + '/records/March.csv')\n",
    "april = pd.read_csv(cwd + '/records/April.csv')\n",
    "may = pd.read_csv(cwd + '/records/May.csv')\n",
    "june = pd.read_csv(cwd + '/records/June.csv')\n",
    "july = pd.read_csv(cwd + '/records/July.csv')\n",
    "aug = pd.read_csv(cwd + '/records/Aug.csv')\n",
    "sept = pd.read_csv(cwd + '/records/Sept.csv')\n",
    "octo = pd.read_csv(cwd + '/records/Oct.csv')\n",
    "nov = pd.read_csv(cwd + '/records/Nov.csv')\n",
    "dec = pd.read_csv(cwd + '/records/Dec.csv')"
   ]
  },
  {
   "cell_type": "code",
   "execution_count": 3,
   "metadata": {},
   "outputs": [
    {
     "name": "stderr",
     "output_type": "stream",
     "text": [
      "/Users/arihorwitz/anaconda3/lib/python3.6/site-packages/pandas/core/frame.py:6201: FutureWarning: Sorting because non-concatenation axis is not aligned. A future version\n",
      "of pandas will change to not sort by default.\n",
      "\n",
      "To accept the future behavior, pass 'sort=True'.\n",
      "\n",
      "To retain the current behavior and silence the warning, pass sort=False\n",
      "\n",
      "  sort=sort)\n"
     ]
    }
   ],
   "source": [
    "#combine each month \n",
    "year = jan.append([feb,march,april,may,june,july,aug,sept,octo,nov,dec])"
   ]
  },
  {
   "cell_type": "code",
   "execution_count": 4,
   "metadata": {},
   "outputs": [
    {
     "data": {
      "text/plain": [
       "7321736"
      ]
     },
     "execution_count": 4,
     "metadata": {},
     "output_type": "execute_result"
    }
   ],
   "source": [
    "len(year)"
   ]
  },
  {
   "cell_type": "code",
   "execution_count": 5,
   "metadata": {},
   "outputs": [
    {
     "data": {
      "text/plain": [
       "Index(['ACTUAL_ELAPSED_TIME', 'AIR_TIME', 'ARR_DEL15', 'ARR_DELAY', 'ARR_TIME',\n",
       "       'CANCELLATION_CODE', 'CANCELLED', 'CARRIER_DELAY', 'CRS_ARR_TIME',\n",
       "       'CRS_DEP_TIME', 'CRS_ELAPSED_TIME', 'DAY_OF_MONTH', 'DAY_OF_WEEK',\n",
       "       'DEP_DEL15', 'DEP_DELAY', 'DEP_TIME', 'DEST', 'DEST_CITY_NAME',\n",
       "       'DISTANCE', 'DIV1_AIRPORT', 'DIV2_AIRPORT', 'DIVERTED',\n",
       "       'DIV_ACTUAL_ELAPSED_TIME', 'DIV_AIRPORT_LANDINGS', 'DIV_DISTANCE',\n",
       "       'DIV_REACHED_DEST', 'FL_DATE', 'LATE_AIRCRAFT_DELAY', 'MONTH',\n",
       "       'NAS_DELAY', 'OP_CARRIER_FL_NUM', 'OP_UNIQUE_CARRIER', 'ORIGIN',\n",
       "       'ORIGIN_CITY_NAME', 'SECURITY_DELAY', 'TAIL_NUM', 'TOTAL_ADD_GTIME',\n",
       "       'Unnamed: 30', 'Unnamed: 39', 'WEATHER_DELAY', 'YEAR'],\n",
       "      dtype='object')"
      ]
     },
     "execution_count": 5,
     "metadata": {},
     "output_type": "execute_result"
    }
   ],
   "source": [
    "year.columns"
   ]
  },
  {
   "cell_type": "code",
   "execution_count": 4,
   "metadata": {},
   "outputs": [],
   "source": [
    "year = year.reindex(columns= ['YEAR', 'MONTH', 'DAY_OF_MONTH', 'DAY_OF_WEEK', 'FL_DATE','OP_UNIQUE_CARRIER', 'TAIL_NUM', 'OP_CARRIER_FL_NUM', 'ORIGIN', 'ORIGIN_CITY_NAME', 'DEST', 'DEST_CITY_NAME', 'CRS_DEP_TIME','DEP_TIME', 'DEP_DELAY','CRS_ARR_TIME', 'ARR_TIME', 'CRS_ELAPSED_TIME', 'ACTUAL_ELAPSED_TIME', 'AIR_TIME', 'DISTANCE','CARRIER_DELAY', 'WEATHER_DELAY', 'NAS_DELAY', 'SECURITY_DELAY','LATE_AIRCRAFT_DELAY', 'TOTAL_ADD_GTIME','ARR_DEL15','DEP_DEL15'])"
   ]
  },
  {
   "cell_type": "code",
   "execution_count": 8,
   "metadata": {},
   "outputs": [
    {
     "data": {
      "text/plain": [
       "Index(['YEAR', 'MONTH', 'DAY_OF_MONTH', 'DAY_OF_WEEK', 'FL_DATE',\n",
       "       'OP_UNIQUE_CARRIER', 'TAIL_NUM', 'OP_CARRIER_FL_NUM', 'ORIGIN',\n",
       "       'ORIGIN_CITY_NAME', 'DEST', 'DEST_CITY_NAME', 'CRS_DEP_TIME',\n",
       "       'DEP_TIME', 'DEP_DELAY', 'CRS_ARR_TIME', 'ARR_TIME', 'CRS_ELAPSED_TIME',\n",
       "       'ACTUAL_ELAPSED_TIME', 'AIR_TIME', 'DISTANCE', 'CARRIER_DELAY',\n",
       "       'WEATHER_DELAY', 'NAS_DELAY', 'SECURITY_DELAY', 'LATE_AIRCRAFT_DELAY',\n",
       "       'TOTAL_ADD_GTIME', 'ARR_DEL15', 'DEP_DEL15'],\n",
       "      dtype='object')"
      ]
     },
     "execution_count": 8,
     "metadata": {},
     "output_type": "execute_result"
    }
   ],
   "source": [
    "year.columns"
   ]
  },
  {
   "cell_type": "code",
   "execution_count": 5,
   "metadata": {},
   "outputs": [],
   "source": [
    "# create hour column, will have min after the decimal\n",
    "year['HOUR'] = year['CRS_DEP_TIME'].apply(lambda x: round(x/100,2))"
   ]
  },
  {
   "cell_type": "code",
   "execution_count": 6,
   "metadata": {},
   "outputs": [],
   "source": [
    "# round up if min (dec) is more than 30 min\n",
    "# do this by utiizing math.modf which splits before and after decimal, after being at the 0 position\n",
    "year['HOUR'] = year['HOUR'].apply(lambda x: x + 1 if round(math.modf(x)[0],2) > .29 else x)"
   ]
  },
  {
   "cell_type": "code",
   "execution_count": 7,
   "metadata": {},
   "outputs": [],
   "source": [
    "year['HOUR'] = year['HOUR'].astype(int)"
   ]
  },
  {
   "cell_type": "code",
   "execution_count": 8,
   "metadata": {},
   "outputs": [],
   "source": [
    "year['HOUR'] = year['HOUR'].apply(lambda x: x +0 if x < 24 else 0)"
   ]
  },
  {
   "cell_type": "code",
   "execution_count": 33,
   "metadata": {},
   "outputs": [
    {
     "data": {
      "text/html": [
       "<div>\n",
       "<style scoped>\n",
       "    .dataframe tbody tr th:only-of-type {\n",
       "        vertical-align: middle;\n",
       "    }\n",
       "\n",
       "    .dataframe tbody tr th {\n",
       "        vertical-align: top;\n",
       "    }\n",
       "\n",
       "    .dataframe thead th {\n",
       "        text-align: right;\n",
       "    }\n",
       "</style>\n",
       "<table border=\"1\" class=\"dataframe\">\n",
       "  <thead>\n",
       "    <tr style=\"text-align: right;\">\n",
       "      <th></th>\n",
       "      <th>YEAR</th>\n",
       "      <th>MONTH</th>\n",
       "      <th>DAY_OF_MONTH</th>\n",
       "      <th>DAY_OF_WEEK</th>\n",
       "      <th>OP_CARRIER_FL_NUM</th>\n",
       "      <th>CRS_DEP_TIME</th>\n",
       "      <th>DEP_TIME</th>\n",
       "      <th>DEP_DELAY</th>\n",
       "      <th>CRS_ARR_TIME</th>\n",
       "      <th>ARR_TIME</th>\n",
       "      <th>...</th>\n",
       "      <th>DISTANCE</th>\n",
       "      <th>CARRIER_DELAY</th>\n",
       "      <th>WEATHER_DELAY</th>\n",
       "      <th>NAS_DELAY</th>\n",
       "      <th>SECURITY_DELAY</th>\n",
       "      <th>LATE_AIRCRAFT_DELAY</th>\n",
       "      <th>TOTAL_ADD_GTIME</th>\n",
       "      <th>ARR_DEL15</th>\n",
       "      <th>DEP_DEL15</th>\n",
       "      <th>HOUR</th>\n",
       "    </tr>\n",
       "  </thead>\n",
       "  <tbody>\n",
       "    <tr>\n",
       "      <th>count</th>\n",
       "      <td>7321736.0</td>\n",
       "      <td>7.321736e+06</td>\n",
       "      <td>7.321736e+06</td>\n",
       "      <td>7.321736e+06</td>\n",
       "      <td>7.321736e+06</td>\n",
       "      <td>7.321736e+06</td>\n",
       "      <td>7.207007e+06</td>\n",
       "      <td>7.202090e+06</td>\n",
       "      <td>7.321736e+06</td>\n",
       "      <td>7.199834e+06</td>\n",
       "      <td>...</td>\n",
       "      <td>7.321736e+06</td>\n",
       "      <td>1.376084e+06</td>\n",
       "      <td>1.376084e+06</td>\n",
       "      <td>1.376084e+06</td>\n",
       "      <td>1.376084e+06</td>\n",
       "      <td>1.376084e+06</td>\n",
       "      <td>47884.000000</td>\n",
       "      <td>7.181826e+06</td>\n",
       "      <td>7.202090e+06</td>\n",
       "      <td>7.321736e+06</td>\n",
       "    </tr>\n",
       "    <tr>\n",
       "      <th>mean</th>\n",
       "      <td>2018.0</td>\n",
       "      <td>6.637701e+00</td>\n",
       "      <td>1.577230e+01</td>\n",
       "      <td>3.936372e+00</td>\n",
       "      <td>2.634692e+03</td>\n",
       "      <td>1.329679e+03</td>\n",
       "      <td>1.333906e+03</td>\n",
       "      <td>9.994951e+00</td>\n",
       "      <td>1.486112e+03</td>\n",
       "      <td>1.466692e+03</td>\n",
       "      <td>...</td>\n",
       "      <td>7.941774e+02</td>\n",
       "      <td>1.945425e+01</td>\n",
       "      <td>3.631149e+00</td>\n",
       "      <td>1.586372e+01</td>\n",
       "      <td>9.261208e-02</td>\n",
       "      <td>2.579276e+01</td>\n",
       "      <td>39.033686</td>\n",
       "      <td>1.916064e-01</td>\n",
       "      <td>1.842690e-01</td>\n",
       "      <td>1.341388e+01</td>\n",
       "    </tr>\n",
       "    <tr>\n",
       "      <th>std</th>\n",
       "      <td>0.0</td>\n",
       "      <td>3.423622e+00</td>\n",
       "      <td>8.766341e+00</td>\n",
       "      <td>1.995065e+00</td>\n",
       "      <td>1.866340e+03</td>\n",
       "      <td>4.905475e+02</td>\n",
       "      <td>5.040892e+02</td>\n",
       "      <td>4.499339e+01</td>\n",
       "      <td>5.177534e+02</td>\n",
       "      <td>5.371331e+02</td>\n",
       "      <td>...</td>\n",
       "      <td>5.965376e+02</td>\n",
       "      <td>5.904230e+01</td>\n",
       "      <td>3.005631e+01</td>\n",
       "      <td>3.579923e+01</td>\n",
       "      <td>3.151043e+00</td>\n",
       "      <td>5.007572e+01</td>\n",
       "      <td>34.586854</td>\n",
       "      <td>3.935650e-01</td>\n",
       "      <td>3.877034e-01</td>\n",
       "      <td>4.958368e+00</td>\n",
       "    </tr>\n",
       "    <tr>\n",
       "      <th>min</th>\n",
       "      <td>2018.0</td>\n",
       "      <td>1.000000e+00</td>\n",
       "      <td>1.000000e+00</td>\n",
       "      <td>1.000000e+00</td>\n",
       "      <td>1.000000e+00</td>\n",
       "      <td>1.000000e+00</td>\n",
       "      <td>1.000000e+00</td>\n",
       "      <td>-1.220000e+02</td>\n",
       "      <td>1.000000e+00</td>\n",
       "      <td>1.000000e+00</td>\n",
       "      <td>...</td>\n",
       "      <td>3.100000e+01</td>\n",
       "      <td>0.000000e+00</td>\n",
       "      <td>0.000000e+00</td>\n",
       "      <td>0.000000e+00</td>\n",
       "      <td>0.000000e+00</td>\n",
       "      <td>0.000000e+00</td>\n",
       "      <td>1.000000</td>\n",
       "      <td>0.000000e+00</td>\n",
       "      <td>0.000000e+00</td>\n",
       "      <td>0.000000e+00</td>\n",
       "    </tr>\n",
       "    <tr>\n",
       "      <th>25%</th>\n",
       "      <td>2018.0</td>\n",
       "      <td>4.000000e+00</td>\n",
       "      <td>8.000000e+00</td>\n",
       "      <td>2.000000e+00</td>\n",
       "      <td>1.052000e+03</td>\n",
       "      <td>9.150000e+02</td>\n",
       "      <td>9.160000e+02</td>\n",
       "      <td>-6.000000e+00</td>\n",
       "      <td>1.100000e+03</td>\n",
       "      <td>1.049000e+03</td>\n",
       "      <td>...</td>\n",
       "      <td>3.560000e+02</td>\n",
       "      <td>0.000000e+00</td>\n",
       "      <td>0.000000e+00</td>\n",
       "      <td>0.000000e+00</td>\n",
       "      <td>0.000000e+00</td>\n",
       "      <td>0.000000e+00</td>\n",
       "      <td>17.000000</td>\n",
       "      <td>0.000000e+00</td>\n",
       "      <td>0.000000e+00</td>\n",
       "      <td>9.000000e+00</td>\n",
       "    </tr>\n",
       "    <tr>\n",
       "      <th>50%</th>\n",
       "      <td>2018.0</td>\n",
       "      <td>7.000000e+00</td>\n",
       "      <td>1.600000e+01</td>\n",
       "      <td>4.000000e+00</td>\n",
       "      <td>2.162000e+03</td>\n",
       "      <td>1.320000e+03</td>\n",
       "      <td>1.326000e+03</td>\n",
       "      <td>-2.000000e+00</td>\n",
       "      <td>1.515000e+03</td>\n",
       "      <td>1.505000e+03</td>\n",
       "      <td>...</td>\n",
       "      <td>6.280000e+02</td>\n",
       "      <td>0.000000e+00</td>\n",
       "      <td>0.000000e+00</td>\n",
       "      <td>3.000000e+00</td>\n",
       "      <td>0.000000e+00</td>\n",
       "      <td>3.000000e+00</td>\n",
       "      <td>28.000000</td>\n",
       "      <td>0.000000e+00</td>\n",
       "      <td>0.000000e+00</td>\n",
       "      <td>1.300000e+01</td>\n",
       "    </tr>\n",
       "    <tr>\n",
       "      <th>75%</th>\n",
       "      <td>2018.0</td>\n",
       "      <td>1.000000e+01</td>\n",
       "      <td>2.300000e+01</td>\n",
       "      <td>6.000000e+00</td>\n",
       "      <td>4.126000e+03</td>\n",
       "      <td>1.735000e+03</td>\n",
       "      <td>1.744000e+03</td>\n",
       "      <td>7.000000e+00</td>\n",
       "      <td>1.918000e+03</td>\n",
       "      <td>1.916000e+03</td>\n",
       "      <td>...</td>\n",
       "      <td>1.024000e+03</td>\n",
       "      <td>1.700000e+01</td>\n",
       "      <td>0.000000e+00</td>\n",
       "      <td>2.000000e+01</td>\n",
       "      <td>0.000000e+00</td>\n",
       "      <td>3.200000e+01</td>\n",
       "      <td>48.000000</td>\n",
       "      <td>0.000000e+00</td>\n",
       "      <td>0.000000e+00</td>\n",
       "      <td>1.800000e+01</td>\n",
       "    </tr>\n",
       "    <tr>\n",
       "      <th>max</th>\n",
       "      <td>2018.0</td>\n",
       "      <td>1.200000e+01</td>\n",
       "      <td>3.100000e+01</td>\n",
       "      <td>7.000000e+00</td>\n",
       "      <td>9.382000e+03</td>\n",
       "      <td>2.359000e+03</td>\n",
       "      <td>2.400000e+03</td>\n",
       "      <td>2.710000e+03</td>\n",
       "      <td>2.400000e+03</td>\n",
       "      <td>2.400000e+03</td>\n",
       "      <td>...</td>\n",
       "      <td>4.983000e+03</td>\n",
       "      <td>2.109000e+03</td>\n",
       "      <td>2.692000e+03</td>\n",
       "      <td>1.848000e+03</td>\n",
       "      <td>9.870000e+02</td>\n",
       "      <td>2.454000e+03</td>\n",
       "      <td>398.000000</td>\n",
       "      <td>1.000000e+00</td>\n",
       "      <td>1.000000e+00</td>\n",
       "      <td>2.300000e+01</td>\n",
       "    </tr>\n",
       "  </tbody>\n",
       "</table>\n",
       "<p>8 rows × 23 columns</p>\n",
       "</div>"
      ],
      "text/plain": [
       "            YEAR         MONTH  DAY_OF_MONTH   DAY_OF_WEEK  OP_CARRIER_FL_NUM  \\\n",
       "count  7321736.0  7.321736e+06  7.321736e+06  7.321736e+06       7.321736e+06   \n",
       "mean      2018.0  6.637701e+00  1.577230e+01  3.936372e+00       2.634692e+03   \n",
       "std          0.0  3.423622e+00  8.766341e+00  1.995065e+00       1.866340e+03   \n",
       "min       2018.0  1.000000e+00  1.000000e+00  1.000000e+00       1.000000e+00   \n",
       "25%       2018.0  4.000000e+00  8.000000e+00  2.000000e+00       1.052000e+03   \n",
       "50%       2018.0  7.000000e+00  1.600000e+01  4.000000e+00       2.162000e+03   \n",
       "75%       2018.0  1.000000e+01  2.300000e+01  6.000000e+00       4.126000e+03   \n",
       "max       2018.0  1.200000e+01  3.100000e+01  7.000000e+00       9.382000e+03   \n",
       "\n",
       "       CRS_DEP_TIME      DEP_TIME     DEP_DELAY  CRS_ARR_TIME      ARR_TIME  \\\n",
       "count  7.321736e+06  7.207007e+06  7.202090e+06  7.321736e+06  7.199834e+06   \n",
       "mean   1.329679e+03  1.333906e+03  9.994951e+00  1.486112e+03  1.466692e+03   \n",
       "std    4.905475e+02  5.040892e+02  4.499339e+01  5.177534e+02  5.371331e+02   \n",
       "min    1.000000e+00  1.000000e+00 -1.220000e+02  1.000000e+00  1.000000e+00   \n",
       "25%    9.150000e+02  9.160000e+02 -6.000000e+00  1.100000e+03  1.049000e+03   \n",
       "50%    1.320000e+03  1.326000e+03 -2.000000e+00  1.515000e+03  1.505000e+03   \n",
       "75%    1.735000e+03  1.744000e+03  7.000000e+00  1.918000e+03  1.916000e+03   \n",
       "max    2.359000e+03  2.400000e+03  2.710000e+03  2.400000e+03  2.400000e+03   \n",
       "\n",
       "           ...           DISTANCE  CARRIER_DELAY  WEATHER_DELAY     NAS_DELAY  \\\n",
       "count      ...       7.321736e+06   1.376084e+06   1.376084e+06  1.376084e+06   \n",
       "mean       ...       7.941774e+02   1.945425e+01   3.631149e+00  1.586372e+01   \n",
       "std        ...       5.965376e+02   5.904230e+01   3.005631e+01  3.579923e+01   \n",
       "min        ...       3.100000e+01   0.000000e+00   0.000000e+00  0.000000e+00   \n",
       "25%        ...       3.560000e+02   0.000000e+00   0.000000e+00  0.000000e+00   \n",
       "50%        ...       6.280000e+02   0.000000e+00   0.000000e+00  3.000000e+00   \n",
       "75%        ...       1.024000e+03   1.700000e+01   0.000000e+00  2.000000e+01   \n",
       "max        ...       4.983000e+03   2.109000e+03   2.692000e+03  1.848000e+03   \n",
       "\n",
       "       SECURITY_DELAY  LATE_AIRCRAFT_DELAY  TOTAL_ADD_GTIME     ARR_DEL15  \\\n",
       "count    1.376084e+06         1.376084e+06     47884.000000  7.181826e+06   \n",
       "mean     9.261208e-02         2.579276e+01        39.033686  1.916064e-01   \n",
       "std      3.151043e+00         5.007572e+01        34.586854  3.935650e-01   \n",
       "min      0.000000e+00         0.000000e+00         1.000000  0.000000e+00   \n",
       "25%      0.000000e+00         0.000000e+00        17.000000  0.000000e+00   \n",
       "50%      0.000000e+00         3.000000e+00        28.000000  0.000000e+00   \n",
       "75%      0.000000e+00         3.200000e+01        48.000000  0.000000e+00   \n",
       "max      9.870000e+02         2.454000e+03       398.000000  1.000000e+00   \n",
       "\n",
       "          DEP_DEL15          HOUR  \n",
       "count  7.202090e+06  7.321736e+06  \n",
       "mean   1.842690e-01  1.341388e+01  \n",
       "std    3.877034e-01  4.958368e+00  \n",
       "min    0.000000e+00  0.000000e+00  \n",
       "25%    0.000000e+00  9.000000e+00  \n",
       "50%    0.000000e+00  1.300000e+01  \n",
       "75%    0.000000e+00  1.800000e+01  \n",
       "max    1.000000e+00  2.300000e+01  \n",
       "\n",
       "[8 rows x 23 columns]"
      ]
     },
     "execution_count": 33,
     "metadata": {},
     "output_type": "execute_result"
    }
   ],
   "source": [
    "year.describe()"
   ]
  },
  {
   "cell_type": "code",
   "execution_count": 34,
   "metadata": {},
   "outputs": [
    {
     "data": {
      "text/plain": [
       "YEAR                         0\n",
       "MONTH                        0\n",
       "DAY_OF_MONTH                 0\n",
       "DAY_OF_WEEK                  0\n",
       "FL_DATE                      0\n",
       "OP_UNIQUE_CARRIER            0\n",
       "TAIL_NUM                 15795\n",
       "OP_CARRIER_FL_NUM            0\n",
       "ORIGIN                       0\n",
       "ORIGIN_CITY_NAME             0\n",
       "DEST                         0\n",
       "DEST_CITY_NAME               0\n",
       "CRS_DEP_TIME                 0\n",
       "DEP_TIME                114729\n",
       "DEP_DELAY               119646\n",
       "CRS_ARR_TIME                 0\n",
       "ARR_TIME                121902\n",
       "CRS_ELAPSED_TIME            10\n",
       "ACTUAL_ELAPSED_TIME     137312\n",
       "AIR_TIME                137312\n",
       "DISTANCE                     0\n",
       "CARRIER_DELAY          5945652\n",
       "WEATHER_DELAY          5945652\n",
       "NAS_DELAY              5945652\n",
       "SECURITY_DELAY         5945652\n",
       "LATE_AIRCRAFT_DELAY    5945652\n",
       "TOTAL_ADD_GTIME        7273852\n",
       "ARR_DEL15               139910\n",
       "DEP_DEL15               119646\n",
       "HOUR                         0\n",
       "dtype: int64"
      ]
     },
     "execution_count": 34,
     "metadata": {},
     "output_type": "execute_result"
    }
   ],
   "source": [
    "year.isna().sum()"
   ]
  },
  {
   "cell_type": "code",
   "execution_count": 35,
   "metadata": {},
   "outputs": [
    {
     "data": {
      "text/plain": [
       "WN    1352552\n",
       "DL     949283\n",
       "AA     916818\n",
       "OO     774262\n",
       "UA     621565\n",
       "YX     316153\n",
       "B6     305010\n",
       "MQ     296034\n",
       "OH     278462\n",
       "9E     245939\n",
       "AS     245761\n",
       "YV     215115\n",
       "EV     202700\n",
       "NK     176178\n",
       "F9     120035\n",
       "G4      96221\n",
       "HA      83723\n",
       "QX      19901\n",
       "PT      18616\n",
       "VX      17670\n",
       "ZW      16907\n",
       "CP      16179\n",
       "G7      14380\n",
       "AX      11944\n",
       "C5       8593\n",
       "EM       1477\n",
       "KS        258\n",
       "Name: OP_UNIQUE_CARRIER, dtype: int64"
      ]
     },
     "execution_count": 35,
     "metadata": {},
     "output_type": "execute_result"
    }
   ],
   "source": [
    "year['OP_UNIQUE_CARRIER'].value_counts()"
   ]
  },
  {
   "cell_type": "code",
   "execution_count": 36,
   "metadata": {},
   "outputs": [
    {
     "data": {
      "text/plain": [
       "ATL    390141\n",
       "ORD    342544\n",
       "DFW    279437\n",
       "DEN    241459\n",
       "CLT    236616\n",
       "LAX    226567\n",
       "SFO    176671\n",
       "PHX    174521\n",
       "IAH    173919\n",
       "LGA    171093\n",
       "LAS    161766\n",
       "DTW    160339\n",
       "MSP    159888\n",
       "BOS    148519\n",
       "SEA    148485\n",
       "EWR    147107\n",
       "MCO    138308\n",
       "DCA    133208\n",
       "JFK    129698\n",
       "PHL    123172\n",
       "SLC    114244\n",
       "BWI    106913\n",
       "FLL     97553\n",
       "SAN     91470\n",
       "MIA     87908\n",
       "MDW     87141\n",
       "TPA     74602\n",
       "BNA     74475\n",
       "IAD     72654\n",
       "DAL     70995\n",
       "        ...  \n",
       "JHM       235\n",
       "PUW       231\n",
       "YKM       226\n",
       "EAT       202\n",
       "EAR       200\n",
       "MKK       183\n",
       "MMH       176\n",
       "ALW       170\n",
       "SMX       170\n",
       "STC       145\n",
       "HGR       138\n",
       "OGS       137\n",
       "DUT       129\n",
       "OGD       126\n",
       "PPG       122\n",
       "ART       120\n",
       "IPT       117\n",
       "DRT       114\n",
       "OWB       111\n",
       "DIK       108\n",
       "ADK       104\n",
       "PQI       103\n",
       "HYA        89\n",
       "DLG        84\n",
       "GST        84\n",
       "BKG        71\n",
       "AKN        63\n",
       "CYS        58\n",
       "IFP        45\n",
       "YNG         2\n",
       "Name: ORIGIN, Length: 370, dtype: int64"
      ]
     },
     "execution_count": 36,
     "metadata": {},
     "output_type": "execute_result"
    }
   ],
   "source": [
    "year['ORIGIN'].value_counts()"
   ]
  },
  {
   "cell_type": "code",
   "execution_count": 37,
   "metadata": {},
   "outputs": [
    {
     "data": {
      "text/plain": [
       "12    649325\n",
       "7     645299\n",
       "8     644673\n",
       "11    638985\n",
       "6     626193\n",
       "5     616529\n",
       "10    616101\n",
       "3     611987\n",
       "4     596046\n",
       "9     585749\n",
       "1     570118\n",
       "2     520731\n",
       "Name: MONTH, dtype: int64"
      ]
     },
     "execution_count": 37,
     "metadata": {},
     "output_type": "execute_result"
    }
   ],
   "source": [
    "year['MONTH'].value_counts()"
   ]
  },
  {
   "cell_type": "code",
   "execution_count": 38,
   "metadata": {
    "scrolled": false
   },
   "outputs": [
    {
     "data": {
      "text/plain": [
       "1    1101171\n",
       "5    1094876\n",
       "4    1086862\n",
       "3    1061705\n",
       "2    1047272\n",
       "7    1039322\n",
       "6     890528\n",
       "Name: DAY_OF_WEEK, dtype: int64"
      ]
     },
     "execution_count": 38,
     "metadata": {},
     "output_type": "execute_result"
    }
   ],
   "source": [
    "year['DAY_OF_WEEK'].value_counts()"
   ]
  },
  {
   "cell_type": "code",
   "execution_count": 39,
   "metadata": {
    "scrolled": true
   },
   "outputs": [
    {
     "data": {
      "text/plain": [
       "7     475895\n",
       "18    469590\n",
       "10    466221\n",
       "8     460143\n",
       "12    456553\n",
       "6     452262\n",
       "11    445807\n",
       "15    434169\n",
       "17    433330\n",
       "16    431472\n",
       "9     430929\n",
       "14    428892\n",
       "13    428231\n",
       "20    417167\n",
       "19    382030\n",
       "21    255633\n",
       "22    238079\n",
       "23     96173\n",
       "5      60640\n",
       "0      35310\n",
       "1      17047\n",
       "2       3019\n",
       "3       1760\n",
       "4       1384\n",
       "Name: HOUR, dtype: int64"
      ]
     },
     "execution_count": 39,
     "metadata": {},
     "output_type": "execute_result"
    }
   ],
   "source": [
    "year['HOUR'].value_counts()"
   ]
  },
  {
   "cell_type": "markdown",
   "metadata": {},
   "source": [
    "## Create csv for only delayed flights"
   ]
  },
  {
   "cell_type": "code",
   "execution_count": 9,
   "metadata": {},
   "outputs": [],
   "source": [
    "# Find delayed flights and reindex\n",
    "delay = year[year['DEP_DEL15']==1]\n",
    "delay = delay.reindex(columns= ['YEAR', 'MONTH', 'DAY_OF_MONTH', 'DAY_OF_WEEK', 'FL_DATE','OP_UNIQUE_CARRIER', 'TAIL_NUM', 'OP_CARRIER_FL_NUM', 'ORIGIN', 'ORIGIN_CITY_NAME', 'DEST', 'DEST_CITY_NAME', 'CRS_DEP_TIME','DEP_TIME', 'DEP_DELAY','CRS_ARR_TIME', 'ARR_TIME', 'CRS_ELAPSED_TIME', 'ACTUAL_ELAPSED_TIME', 'AIR_TIME', 'DISTANCE','CARRIER_DELAY', 'WEATHER_DELAY', 'NAS_DELAY', 'SECURITY_DELAY','LATE_AIRCRAFT_DELAY', 'TOTAL_ADD_GTIME'])"
   ]
  },
  {
   "cell_type": "code",
   "execution_count": 30,
   "metadata": {},
   "outputs": [
    {
     "data": {
      "text/plain": [
       "1327122"
      ]
     },
     "execution_count": 30,
     "metadata": {},
     "output_type": "execute_result"
    }
   ],
   "source": [
    "len(delay)"
   ]
  },
  {
   "cell_type": "code",
   "execution_count": 10,
   "metadata": {},
   "outputs": [],
   "source": [
    "#winter is Dec 21 - March 19\n",
    "delay['FL_DATE'] = pd.to_datetime(delay['FL_DATE'])\n",
    "winter_start = '01-01-2018'\n",
    "winter_end = '03-19-2018'\n",
    "cold_start = '12-21-2018'\n",
    "cold_end = '12-31-2018'\n",
    "maskw = (delay['FL_DATE'] >= winter_start) & (delay['FL_DATE'] <= winter_end)\n",
    "maskc = (delay['FL_DATE'] >= cold_start) & (delay['FL_DATE'] <= cold_end)\n",
    "winter = delay.loc[maskw]\n",
    "cold = delay.loc[maskc]\n",
    "winter = winter.append(cold)\n",
    "\n",
    "# spring is March 20 - June 20\n",
    "spring_start = '03-20-2018'\n",
    "spring_end = '06-20-2018'\n",
    "masksp = (delay['FL_DATE'] >= spring_start) & (delay['FL_DATE'] <= spring_end)\n",
    "spring = delay.loc[masksp]\n",
    "\n",
    "# summer is June 21 - Sept 21\n",
    "summer_start = '06-21-2018'\n",
    "summer_end = '09-21-2018'\n",
    "masksum = (delay['FL_DATE'] >= summer_start) & (delay['FL_DATE'] <= summer_end)\n",
    "summer = delay.loc[masksum]\n",
    "\n",
    "# fall is Sept 22 - Dec 20\n",
    "fall_start = '09-22-2018'\n",
    "fall_end = '12-20-2018'\n",
    "maskf = (delay['FL_DATE'] >= fall_start) & (delay['FL_DATE'] <= fall_end)\n",
    "fall = delay.loc[maskf]"
   ]
  },
  {
   "cell_type": "code",
   "execution_count": 11,
   "metadata": {},
   "outputs": [],
   "source": [
    "# had to break it down into seasons in order to play with delay info\n",
    "fall.to_csv(\"fall.csv\", index=False)\n",
    "winter.to_csv(\"winter.csv\", index=False)\n",
    "spring.to_csv(\"spring.csv\", index=False)\n",
    "summer.to_csv(\"summer.csv\", index=False)"
   ]
  },
  {
   "cell_type": "code",
   "execution_count": 12,
   "metadata": {},
   "outputs": [
    {
     "data": {
      "text/plain": [
       "297275"
      ]
     },
     "metadata": {},
     "output_type": "display_data"
    },
    {
     "data": {
      "text/plain": [
       "305347"
      ]
     },
     "metadata": {},
     "output_type": "display_data"
    },
    {
     "data": {
      "text/plain": [
       "337250"
      ]
     },
     "metadata": {},
     "output_type": "display_data"
    },
    {
     "data": {
      "text/plain": [
       "387250"
      ]
     },
     "execution_count": 12,
     "metadata": {},
     "output_type": "execute_result"
    }
   ],
   "source": [
    "display(len(fall))\n",
    "display(len(winter))\n",
    "display(len(spring))\n",
    "len(summer)"
   ]
  },
  {
   "cell_type": "code",
   "execution_count": 13,
   "metadata": {},
   "outputs": [
    {
     "data": {
      "text/plain": [
       "1327122"
      ]
     },
     "execution_count": 13,
     "metadata": {},
     "output_type": "execute_result"
    }
   ],
   "source": [
    "len(fall)+ len(winter) + len(spring) + len(summer)"
   ]
  },
  {
   "cell_type": "markdown",
   "metadata": {},
   "source": [
    "## Create a Dict to conatian total flight info"
   ]
  },
  {
   "cell_type": "code",
   "execution_count": 9,
   "metadata": {},
   "outputs": [],
   "source": [
    "# create dictionary to store flight info for the year\n",
    "year_info = {}"
   ]
  },
  {
   "cell_type": "code",
   "execution_count": 10,
   "metadata": {},
   "outputs": [],
   "source": [
    "#update dict to include total flights for year\n",
    "year_info.update({\"Total Flights\" : len(year)})"
   ]
  },
  {
   "cell_type": "code",
   "execution_count": 11,
   "metadata": {},
   "outputs": [],
   "source": [
    "#update dict to include total flights for each month\n",
    "month = ['January Flights', 'February Flights', 'March Flights',\\\n",
    "         'April Flights', 'May Flights', 'June Flights', 'July Flights',\\\n",
    "         'August Flights', 'September Flights', 'October Flights', \\\n",
    "         'November Flights', 'December Flights']\n",
    "\n",
    "month_ct = year['MONTH'].value_counts()\n",
    "# freq = {month[x-1] : month_ct[x]} for x in range(1,13)\n",
    "\n",
    "\n",
    "months = {}\n",
    "for x in range(len(month_ct)):\n",
    "    months.update({month[x]: month_ct[x +1]})\n",
    "    \n",
    "year_info.update({'Months': months})"
   ]
  },
  {
   "cell_type": "code",
   "execution_count": 12,
   "metadata": {},
   "outputs": [],
   "source": [
    "#winter is Dec 21 - March 19\n",
    "year['FL_DATE'] = pd.to_datetime(year['FL_DATE'])\n",
    "winter_start = '01-01-2018'\n",
    "winter_end = '03-19-2018'\n",
    "cold_start = '12-21-2018'\n",
    "cold_end = '12-31-2018'\n",
    "maskw = (year['FL_DATE'] >= winter_start) & (year['FL_DATE'] <= winter_end)\n",
    "maskc = (year['FL_DATE'] >= cold_start) & (year['FL_DATE'] <= cold_end)\n",
    "winter = year.loc[maskw]\n",
    "cold = year.loc[maskc]\n",
    "winter = winter.append(cold)\n",
    "\n",
    "# spring is March 20 - June 20\n",
    "spring_start = '03-20-2018'\n",
    "spring_end = '06-20-2018'\n",
    "masksp = (year['FL_DATE'] >= spring_start) & (year['FL_DATE'] <= spring_end)\n",
    "spring = year.loc[masksp]\n",
    "\n",
    "# summer is June 21 - Sept 21\n",
    "summer_start = '06-21-2018'\n",
    "summer_end = '09-21-2018'\n",
    "masksum = (year['FL_DATE'] >= summer_start) & (year['FL_DATE'] <= summer_end)\n",
    "summer = year.loc[masksum]\n",
    "\n",
    "# fall is Sept 22 - Dec 20\n",
    "fall_start = '09-22-2018'\n",
    "fall_end = '12-20-2018'\n",
    "maskf = (year['FL_DATE'] >= fall_start) & (year['FL_DATE'] <= fall_end)\n",
    "fall = year.loc[maskf]"
   ]
  },
  {
   "cell_type": "code",
   "execution_count": 13,
   "metadata": {},
   "outputs": [],
   "source": [
    "season = {\"Spring Flights\" : len(spring),\"Summer Flights\" : len(summer),\\\n",
    "                \"Fall Flights\" : len(fall), \"Winter Flights\" : len(winter)}\n",
    "\n",
    "year_info.update({'Seasons': season})"
   ]
  },
  {
   "cell_type": "code",
   "execution_count": 14,
   "metadata": {},
   "outputs": [],
   "source": [
    "hour_ct = year['HOUR'].value_counts()\n",
    "hour = {}\n",
    "for x in range(24):\n",
    "    hour.update({x: hour_ct[x]})"
   ]
  },
  {
   "cell_type": "code",
   "execution_count": 15,
   "metadata": {},
   "outputs": [],
   "source": [
    "year_info.update({'Hour': hour})"
   ]
  },
  {
   "cell_type": "code",
   "execution_count": 16,
   "metadata": {},
   "outputs": [],
   "source": [
    "week_ct = year['DAY_OF_WEEK'].value_counts()\n",
    "weekday = {}\n",
    "for x in range(1,8):\n",
    "    weekday.update({x: week_ct[x]})"
   ]
  },
  {
   "cell_type": "code",
   "execution_count": 17,
   "metadata": {},
   "outputs": [],
   "source": [
    "year_info.update({'Weekday' : weekday})"
   ]
  },
  {
   "cell_type": "code",
   "execution_count": 18,
   "metadata": {},
   "outputs": [],
   "source": [
    "# dividing up day into genral times not taking time of year into account\n",
    "# 5 to 12\n",
    "morning = year[(year['CRS_DEP_TIME'] >= 500) & (year['CRS_DEP_TIME'] <= 1200)]\n",
    "\n",
    "# 1201 to 17\n",
    "afternoon = year[(year['CRS_DEP_TIME'] >= 1201) & (year['CRS_DEP_TIME'] <= 1700)]\n",
    "\n",
    "# 1701 to 2000\n",
    "evening = year[(year['CRS_DEP_TIME'] >= 1701) & (year['CRS_DEP_TIME'] <= 2100)]\n",
    "\n",
    "# 2001 to 559\n",
    "night = year[(year['CRS_DEP_TIME'] >= 2101) | (year['CRS_DEP_TIME'] < 500)]"
   ]
  },
  {
   "cell_type": "code",
   "execution_count": 19,
   "metadata": {},
   "outputs": [],
   "source": [
    "day = {\"Morning Flights\" : len(morning),\"Afternoon Flights\" : len(afternoon),\\\n",
    "                \"Evening Flights\" : len(evening), \"Night Flights\" : len(night)}\n",
    "\n",
    "year_info.update({'Part of Day': day})"
   ]
  },
  {
   "cell_type": "code",
   "execution_count": 20,
   "metadata": {},
   "outputs": [],
   "source": [
    "airlines = {}\n",
    "airline_ct = year['OP_UNIQUE_CARRIER'].value_counts()\n",
    "airlines.update({'Endeavor Air': airline_ct['9E'], 'American Airlines': airline_ct['AA'], \\\n",
    "                  'Alaska Airlines': airline_ct['AS'], 'JetBlue': airline_ct['B6'], \\\n",
    "                 'Delta Airlines': airline_ct['DL'] , 'ExpressJet': airline_ct['EV'],\\\n",
    "                 'Frontier Airlines': airline_ct['F9'], 'Allegiant Air': airline_ct['G4'],\\\n",
    "                 'Hawaiian Airlines': airline_ct['HA'], 'Envoy Air': airline_ct['MQ'], \\\n",
    "                 'Spirit Airlines': airline_ct['NK'], 'PSA Airlines': airline_ct['OH'],\\\n",
    "                 'SkyWest Airlines': airline_ct['OO'], 'United Airlines': airline_ct['UA'], \\\n",
    "                 'Virgin American': airline_ct['VX'], 'SouthWest Airlines': airline_ct['WN'],\\\n",
    "                 'Mesa Airlines': airline_ct['YV'], 'Republic Airline': airline_ct['YX']})\n",
    "\n",
    "year_info.update({'Airlines' : airlines})"
   ]
  },
  {
   "cell_type": "code",
   "execution_count": 21,
   "metadata": {},
   "outputs": [],
   "source": [
    "airports_ct = year['ORIGIN'].value_counts() #335\n",
    "airports = {}\n",
    "for x in range(len(airports_ct)):\n",
    "    airports.update({airports_ct.keys()[x]: airports_ct[x]})"
   ]
  },
  {
   "cell_type": "code",
   "execution_count": 22,
   "metadata": {},
   "outputs": [],
   "source": [
    "year_info.update({'Airports' : airports})"
   ]
  },
  {
   "cell_type": "code",
   "execution_count": 23,
   "metadata": {},
   "outputs": [
    {
     "data": {
      "text/plain": [
       "{'Total Flights': 7321736,\n",
       " 'Months': {'January Flights': 570118,\n",
       "  'February Flights': 520731,\n",
       "  'March Flights': 611987,\n",
       "  'April Flights': 596046,\n",
       "  'May Flights': 616529,\n",
       "  'June Flights': 626193,\n",
       "  'July Flights': 645299,\n",
       "  'August Flights': 644673,\n",
       "  'September Flights': 585749,\n",
       "  'October Flights': 616101,\n",
       "  'November Flights': 638985,\n",
       "  'December Flights': 649325},\n",
       " 'Seasons': {'Spring Flights': 1866428,\n",
       "  'Summer Flights': 1910847,\n",
       "  'Fall Flights': 1848775,\n",
       "  'Winter Flights': 1695686},\n",
       " 'Hour': {0: 35310,\n",
       "  1: 17047,\n",
       "  2: 3019,\n",
       "  3: 1760,\n",
       "  4: 1384,\n",
       "  5: 60640,\n",
       "  6: 452262,\n",
       "  7: 475895,\n",
       "  8: 460143,\n",
       "  9: 430929,\n",
       "  10: 466221,\n",
       "  11: 445807,\n",
       "  12: 456553,\n",
       "  13: 428231,\n",
       "  14: 428892,\n",
       "  15: 434169,\n",
       "  16: 431472,\n",
       "  17: 433330,\n",
       "  18: 469590,\n",
       "  19: 382030,\n",
       "  20: 417167,\n",
       "  21: 255633,\n",
       "  22: 238079,\n",
       "  23: 96173},\n",
       " 'Weekday': {1: 1101171,\n",
       "  2: 1047272,\n",
       "  3: 1061705,\n",
       "  4: 1086862,\n",
       "  5: 1094876,\n",
       "  6: 890528,\n",
       "  7: 1039322},\n",
       " 'Part of Day': {'Morning Flights': 3051886,\n",
       "  'Afternoon Flights': 2170682,\n",
       "  'Evening Flights': 1616893,\n",
       "  'Night Flights': 482275},\n",
       " 'Airlines': {'Endeavor Air': 245939,\n",
       "  'American Airlines': 916818,\n",
       "  'Alaska Airlines': 245761,\n",
       "  'JetBlue': 305010,\n",
       "  'Delta Airlines': 949283,\n",
       "  'ExpressJet': 202700,\n",
       "  'Frontier Airlines': 120035,\n",
       "  'Allegiant Air': 96221,\n",
       "  'Hawaiian Airlines': 83723,\n",
       "  'Envoy Air': 296034,\n",
       "  'Spirit Airlines': 176178,\n",
       "  'PSA Airlines': 278462,\n",
       "  'SkyWest Airlines': 774262,\n",
       "  'United Airlines': 621565,\n",
       "  'Virgin American': 17670,\n",
       "  'SouthWest Airlines': 1352552,\n",
       "  'Mesa Airlines': 215115,\n",
       "  'Republic Airline': 316153},\n",
       " 'Airports': {'ATL': 390141,\n",
       "  'ORD': 342544,\n",
       "  'DFW': 279437,\n",
       "  'DEN': 241459,\n",
       "  'CLT': 236616,\n",
       "  'LAX': 226567,\n",
       "  'SFO': 176671,\n",
       "  'PHX': 174521,\n",
       "  'IAH': 173919,\n",
       "  'LGA': 171093,\n",
       "  'LAS': 161766,\n",
       "  'DTW': 160339,\n",
       "  'MSP': 159888,\n",
       "  'BOS': 148519,\n",
       "  'SEA': 148485,\n",
       "  'EWR': 147107,\n",
       "  'MCO': 138308,\n",
       "  'DCA': 133208,\n",
       "  'JFK': 129698,\n",
       "  'PHL': 123172,\n",
       "  'SLC': 114244,\n",
       "  'BWI': 106913,\n",
       "  'FLL': 97553,\n",
       "  'SAN': 91470,\n",
       "  'MIA': 87908,\n",
       "  'MDW': 87141,\n",
       "  'TPA': 74602,\n",
       "  'BNA': 74475,\n",
       "  'IAD': 72654,\n",
       "  'DAL': 70995,\n",
       "  'STL': 67569,\n",
       "  'PDX': 67219,\n",
       "  'AUS': 63302,\n",
       "  'RDU': 61559,\n",
       "  'HOU': 57841,\n",
       "  'MCI': 56317,\n",
       "  'SJC': 56271,\n",
       "  'MSY': 55896,\n",
       "  'OAK': 52800,\n",
       "  'HNL': 49980,\n",
       "  'CVG': 49875,\n",
       "  'IND': 49226,\n",
       "  'PIT': 49177,\n",
       "  'CLE': 48884,\n",
       "  'SMF': 48168,\n",
       "  'CMH': 46191,\n",
       "  'SNA': 42230,\n",
       "  'SAT': 39819,\n",
       "  'MKE': 33334,\n",
       "  'RSW': 32361,\n",
       "  'JAX': 31502,\n",
       "  'BDL': 28471,\n",
       "  'BUR': 26937,\n",
       "  'BUF': 26788,\n",
       "  'OGG': 25418,\n",
       "  'OMA': 25386,\n",
       "  'PBI': 25083,\n",
       "  'ABQ': 24744,\n",
       "  'SJU': 24544,\n",
       "  'CHS': 24238,\n",
       "  'RIC': 24101,\n",
       "  'OKC': 23631,\n",
       "  'MEM': 23546,\n",
       "  'SDF': 23497,\n",
       "  'ORF': 23267,\n",
       "  'ONT': 21413,\n",
       "  'BOI': 20150,\n",
       "  'PVD': 18896,\n",
       "  'RNO': 18644,\n",
       "  'BHM': 18582,\n",
       "  'ANC': 18540,\n",
       "  'TUS': 18309,\n",
       "  'GRR': 17760,\n",
       "  'ELP': 17235,\n",
       "  'TUL': 17094,\n",
       "  'LGB': 16908,\n",
       "  'TYS': 16469,\n",
       "  'SAV': 16015,\n",
       "  'DSM': 15747,\n",
       "  'KOA': 15018,\n",
       "  'ROC': 14918,\n",
       "  'DAY': 14609,\n",
       "  'SYR': 14440,\n",
       "  'LIH': 14207,\n",
       "  'GSP': 14013,\n",
       "  'GEG': 13928,\n",
       "  'GSO': 13644,\n",
       "  'MSN': 13559,\n",
       "  'LIT': 13457,\n",
       "  'ALB': 13244,\n",
       "  'XNA': 12787,\n",
       "  'PWM': 12616,\n",
       "  'MYR': 11602,\n",
       "  'PNS': 11420,\n",
       "  'FAT': 11312,\n",
       "  'ICT': 10791,\n",
       "  'PSP': 10646,\n",
       "  'LEX': 10506,\n",
       "  'COS': 10437,\n",
       "  'HPN': 10128,\n",
       "  'MHT': 10070,\n",
       "  'BTV': 10008,\n",
       "  'SFB': 9581,\n",
       "  'CID': 9382,\n",
       "  'SGF': 8933,\n",
       "  'HSV': 8905,\n",
       "  'MAF': 8896,\n",
       "  'CHA': 8753,\n",
       "  'VPS': 7830,\n",
       "  'JAN': 7800,\n",
       "  'AVL': 7730,\n",
       "  'CAK': 7718,\n",
       "  'BTR': 7576,\n",
       "  'PIE': 7487,\n",
       "  'CAE': 7377,\n",
       "  'SBA': 7209,\n",
       "  'FWA': 7200,\n",
       "  'MDT': 7060,\n",
       "  'SBN': 7025,\n",
       "  'ILM': 6939,\n",
       "  'ASE': 6854,\n",
       "  'SHV': 6694,\n",
       "  'MOB': 6566,\n",
       "  'FSD': 6536,\n",
       "  'LBB': 6474,\n",
       "  'SRQ': 6341,\n",
       "  'ISP': 6320,\n",
       "  'ITO': 6230,\n",
       "  'BZN': 6179,\n",
       "  'CHO': 6124,\n",
       "  'TLH': 6122,\n",
       "  'FAR': 6052,\n",
       "  'CRP': 5562,\n",
       "  'ECP': 5537,\n",
       "  'AMA': 5478,\n",
       "  'PIA': 5434,\n",
       "  'MFR': 5365,\n",
       "  'MLI': 5353,\n",
       "  'AZA': 5251,\n",
       "  'PGD': 5223,\n",
       "  'GRB': 4984,\n",
       "  'SBP': 4843,\n",
       "  'CRW': 4839,\n",
       "  'EVV': 4789,\n",
       "  'EUG': 4783,\n",
       "  'EYW': 4756,\n",
       "  'ATW': 4645,\n",
       "  'AGS': 4637,\n",
       "  'MFE': 4610,\n",
       "  'LFT': 4560,\n",
       "  'RDM': 4505,\n",
       "  'GNV': 4492,\n",
       "  'FAI': 4482,\n",
       "  'RAP': 4476,\n",
       "  'JNU': 4407,\n",
       "  'BIL': 4368,\n",
       "  'ABE': 4339,\n",
       "  'BGR': 4339,\n",
       "  'FNT': 4337,\n",
       "  'MGM': 4278,\n",
       "  'GPT': 4230,\n",
       "  'JAC': 4228,\n",
       "  'TVC': 4126,\n",
       "  'FAY': 4043,\n",
       "  'BIS': 3957,\n",
       "  'MRY': 3931,\n",
       "  'GJT': 3843,\n",
       "  'AVP': 3824,\n",
       "  'MSO': 3822,\n",
       "  'LAN': 3623,\n",
       "  'PSC': 3596,\n",
       "  'DAB': 3548,\n",
       "  'HRL': 3443,\n",
       "  'AEX': 3403,\n",
       "  'RST': 3401,\n",
       "  'ROA': 3362,\n",
       "  'TRI': 3339,\n",
       "  'ACY': 3288,\n",
       "  'SGU': 3247,\n",
       "  'DRO': 3232,\n",
       "  'OAJ': 3194,\n",
       "  'BMI': 3173,\n",
       "  'PHF': 3103,\n",
       "  'MLU': 3082,\n",
       "  'AZO': 3048,\n",
       "  'CWA': 3005,\n",
       "  'GRK': 2999,\n",
       "  'MBS': 2858,\n",
       "  'DLH': 2798,\n",
       "  'FCA': 2793,\n",
       "  'BRO': 2607,\n",
       "  'TTN': 2603,\n",
       "  'MOT': 2584,\n",
       "  'STT': 2533,\n",
       "  'MLB': 2453,\n",
       "  'BLI': 2443,\n",
       "  'LRD': 2442,\n",
       "  'KTN': 2430,\n",
       "  'CMI': 2368,\n",
       "  'COU': 2358,\n",
       "  'BFL': 2324,\n",
       "  'CLL': 2312,\n",
       "  'IDA': 2299,\n",
       "  'EWN': 2272,\n",
       "  'EGE': 2154,\n",
       "  'LSE': 2139,\n",
       "  'GFK': 2106,\n",
       "  'TOL': 2080,\n",
       "  'GTF': 2061,\n",
       "  'FSM': 2051,\n",
       "  'ABI': 2022,\n",
       "  'LNK': 2019,\n",
       "  'BQN': 1960,\n",
       "  'SWF': 1956,\n",
       "  'LCH': 1940,\n",
       "  'HLN': 1897,\n",
       "  'STS': 1888,\n",
       "  'SCE': 1885,\n",
       "  'MHK': 1834,\n",
       "  'SPI': 1811,\n",
       "  'MTJ': 1650,\n",
       "  'ACT': 1593,\n",
       "  'SAF': 1581,\n",
       "  'ISN': 1520,\n",
       "  'ACV': 1478,\n",
       "  'TYR': 1442,\n",
       "  'SJT': 1433,\n",
       "  'YUM': 1376,\n",
       "  'DHN': 1374,\n",
       "  'ROW': 1371,\n",
       "  'MQT': 1352,\n",
       "  'LAW': 1342,\n",
       "  'SIT': 1341,\n",
       "  'SUN': 1312,\n",
       "  'LYH': 1309,\n",
       "  'CSG': 1277,\n",
       "  'TWF': 1271,\n",
       "  'PIH': 1262,\n",
       "  'ITH': 1260,\n",
       "  'ERI': 1244,\n",
       "  'TXK': 1227,\n",
       "  'FLG': 1190,\n",
       "  'SUX': 1189,\n",
       "  'RDD': 1169,\n",
       "  'CPR': 1126,\n",
       "  'STX': 1125,\n",
       "  'PGV': 1120,\n",
       "  'MEI': 1093,\n",
       "  'LBE': 1090,\n",
       "  'LCK': 1084,\n",
       "  'ORH': 1082,\n",
       "  'HYS': 1078,\n",
       "  'SPS': 1058,\n",
       "  'VLD': 1039,\n",
       "  'HDN': 1039,\n",
       "  'BQK': 1038,\n",
       "  'HVN': 1031,\n",
       "  'PLN': 1027,\n",
       "  'GTR': 1021,\n",
       "  'BLV': 1019,\n",
       "  'ABY': 1018,\n",
       "  'HTS': 1012,\n",
       "  'DBQ': 1009,\n",
       "  'GRI': 1001,\n",
       "  'USA': 999,\n",
       "  'JMS': 989,\n",
       "  'ACK': 972,\n",
       "  'PBG': 952,\n",
       "  'UIN': 937,\n",
       "  'SCC': 935,\n",
       "  'BGM': 920,\n",
       "  'PUB': 902,\n",
       "  'BPT': 851,\n",
       "  'BET': 837,\n",
       "  'GCC': 833,\n",
       "  'COD': 831,\n",
       "  'IAG': 811,\n",
       "  'CKB': 807,\n",
       "  'JLN': 805,\n",
       "  'GGG': 803,\n",
       "  'SWO': 797,\n",
       "  'PSE': 792,\n",
       "  'SCK': 747,\n",
       "  'ABR': 745,\n",
       "  'BJI': 740,\n",
       "  'GCK': 731,\n",
       "  'PIB': 729,\n",
       "  'BRW': 727,\n",
       "  'CMX': 725,\n",
       "  'RHI': 724,\n",
       "  'WRG': 724,\n",
       "  'PSG': 724,\n",
       "  'CDV': 722,\n",
       "  'YAK': 722,\n",
       "  'OTZ': 722,\n",
       "  'OME': 721,\n",
       "  'EAU': 720,\n",
       "  'MKG': 720,\n",
       "  'PAH': 719,\n",
       "  'LWS': 717,\n",
       "  'ELM': 704,\n",
       "  'SLN': 685,\n",
       "  'RKS': 680,\n",
       "  'BTM': 677,\n",
       "  'HOB': 677,\n",
       "  'ALO': 677,\n",
       "  'RFD': 673,\n",
       "  'CIU': 673,\n",
       "  'SHD': 662,\n",
       "  'IMT': 652,\n",
       "  'INL': 650,\n",
       "  'EKO': 647,\n",
       "  'BRD': 637,\n",
       "  'ADQ': 636,\n",
       "  'DVL': 626,\n",
       "  'ESC': 625,\n",
       "  'CGI': 625,\n",
       "  'HIB': 625,\n",
       "  'LAR': 625,\n",
       "  'GUM': 623,\n",
       "  'APN': 622,\n",
       "  'CDC': 622,\n",
       "  'LWB': 576,\n",
       "  'BFF': 573,\n",
       "  'LBF': 569,\n",
       "  'LBL': 561,\n",
       "  'PVU': 547,\n",
       "  'HHH': 535,\n",
       "  'MVY': 492,\n",
       "  'CNY': 420,\n",
       "  'FLO': 383,\n",
       "  'SBY': 377,\n",
       "  'OTH': 371,\n",
       "  'LNY': 320,\n",
       "  'VEL': 320,\n",
       "  'GUC': 304,\n",
       "  'PSM': 303,\n",
       "  'SPN': 257,\n",
       "  'WYS': 239,\n",
       "  'PRC': 236,\n",
       "  'JHM': 235,\n",
       "  'PUW': 231,\n",
       "  'YKM': 226,\n",
       "  'EAT': 202,\n",
       "  'EAR': 200,\n",
       "  'MKK': 183,\n",
       "  'MMH': 176,\n",
       "  'SMX': 170,\n",
       "  'ALW': 170,\n",
       "  'STC': 145,\n",
       "  'HGR': 138,\n",
       "  'OGS': 137,\n",
       "  'DUT': 129,\n",
       "  'OGD': 126,\n",
       "  'PPG': 122,\n",
       "  'ART': 120,\n",
       "  'IPT': 117,\n",
       "  'DRT': 114,\n",
       "  'OWB': 111,\n",
       "  'DIK': 108,\n",
       "  'ADK': 104,\n",
       "  'PQI': 103,\n",
       "  'HYA': 89,\n",
       "  'GST': 84,\n",
       "  'DLG': 84,\n",
       "  'BKG': 71,\n",
       "  'AKN': 63,\n",
       "  'CYS': 58,\n",
       "  'IFP': 45,\n",
       "  'YNG': 2}}"
      ]
     },
     "execution_count": 23,
     "metadata": {},
     "output_type": "execute_result"
    }
   ],
   "source": [
    "year_info"
   ]
  },
  {
   "cell_type": "code",
   "execution_count": 24,
   "metadata": {},
   "outputs": [],
   "source": [
    "import pickle"
   ]
  },
  {
   "cell_type": "code",
   "execution_count": 25,
   "metadata": {},
   "outputs": [],
   "source": [
    "# pickle the year dict to use elsewhere \n",
    "outfile = open('yearly_flights.pickle', 'wb')\n",
    "\n",
    "pickle.dump(year_info, outfile)\n",
    "outfile.close()"
   ]
  },
  {
   "cell_type": "code",
   "execution_count": null,
   "metadata": {},
   "outputs": [],
   "source": []
  }
 ],
 "metadata": {
  "kernelspec": {
   "display_name": "Python 3",
   "language": "python",
   "name": "python3"
  },
  "language_info": {
   "codemirror_mode": {
    "name": "ipython",
    "version": 3
   },
   "file_extension": ".py",
   "mimetype": "text/x-python",
   "name": "python",
   "nbconvert_exporter": "python",
   "pygments_lexer": "ipython3",
   "version": "3.6.5"
  }
 },
 "nbformat": 4,
 "nbformat_minor": 2
}
